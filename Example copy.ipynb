{
 "cells": [
  {
   "cell_type": "code",
   "execution_count": 13,
   "metadata": {},
   "outputs": [],
   "source": [
    "import pandas as pd\n",
    "import numpy as np\n",
    "import torch\n",
    "from preprocessing.feature_engineering import FeatureEngineering\n",
    "from preprocessing.Resampling import Resampling\n",
    "from graph.graph_construction import GraphConstruction\n",
    "from models.GNNs import GraphSAGE, GAT, GraphSAGE1, GraphSAGE2, GraphSAGE3\n",
    "from torch.optim import Adam\n",
    "from torch.optim.lr_scheduler import StepLR\n",
    "from torch_geometric.nn import to_hetero\n",
    "from torch_geometric.loader import HGTLoader\n",
    "from sklearn.metrics import average_precision_score, precision_score, recall_score, f1_score, roc_auc_score\n",
    "from tqdm import tqdm"
   ]
  },
  {
   "cell_type": "code",
   "execution_count": 2,
   "metadata": {},
   "outputs": [
    {
     "name": "stdout",
     "output_type": "stream",
     "text": [
      "Feature engineering completed.\n",
      "Fraud rate in training set before resampling: 0.54%\n",
      "Fraud rate in testing set: 0.62%\n",
      "Fraud rate in training set after resampling: 50.00%\n",
      "Fraud rate in testing set after resampling: 0.62%\n",
      "Length of training set: 953192\n",
      "Length of testing set: 198889\n"
     ]
    }
   ],
   "source": [
    "dataset = pd.read_csv('C:/Users/ruben/OneDrive/Desktop/Datasets/original_dataset.csv')\n",
    "\n",
    "# Apply feature engineering on the dataset\n",
    "fe = FeatureEngineering(dataset)\n",
    "processed_dataset = fe.apply_feature_engineering()\n",
    "\n",
    "# Apply resampling on the dataset\n",
    "resampler = Resampling(processed_dataset, test_size=0.4, random_state=42)\n",
    "final_dataset = resampler.apply_resampling()"
   ]
  },
  {
   "cell_type": "code",
   "execution_count": 3,
   "metadata": {},
   "outputs": [],
   "source": [
    "final_dataset.head()\n",
    "final_dataset.to_csv('C:/Users/ruben/OneDrive/Desktop/Datasets/final_dataset.csv', index=False)"
   ]
  },
  {
   "cell_type": "code",
   "execution_count": 14,
   "metadata": {},
   "outputs": [
    {
     "name": "stdout",
     "output_type": "stream",
     "text": [
      "Using device: cuda\n"
     ]
    }
   ],
   "source": [
    "# set device\n",
    "device = torch.device('cuda' if torch.cuda.is_available() else 'cpu')\n",
    "print('Using device:', device)"
   ]
  },
  {
   "cell_type": "code",
   "execution_count": 15,
   "metadata": {},
   "outputs": [
    {
     "name": "stdout",
     "output_type": "stream",
     "text": [
      "Fraud Percentage in Train Mask: 50.00%\n",
      "Fraud Percentage in Test Mask: 0.61%\n",
      "Fraud Percentage in Val Mask: 0.63%\n",
      "Graph Construction Successful!\n"
     ]
    }
   ],
   "source": [
    "final_dataset = pd.read_csv('C:/Users/ruben/OneDrive/Desktop/Datasets/final_dataset.csv')\n",
    "\n",
    "# Percentage in Test and Val set is not the same because there is no stratified split performed\n",
    "graph_constructor = GraphConstruction(final_dataset)\n",
    "data = graph_constructor.apply_graph_construction()"
   ]
  },
  {
   "cell_type": "code",
   "execution_count": 16,
   "metadata": {},
   "outputs": [
    {
     "name": "stdout",
     "output_type": "stream",
     "text": [
      "HeteroData(\n",
      "  transaction={\n",
      "    x=[1152081, 7],\n",
      "    y=[1152081],\n",
      "    num_classes=2,\n",
      "    train_mask=[1152081],\n",
      "    test_mask=[1152081],\n",
      "    val_mask=[1152081],\n",
      "  },\n",
      "  client={ x=[983, 5] },\n",
      "  merchant={ x=[693, 1] },\n",
      "  (client, pays, transaction)={ edge_index=[2, 1152081] },\n",
      "  (transaction, received by, merchant)={ edge_index=[2, 1152081] },\n",
      "  (transaction, rev_pays, client)={ edge_index=[2, 1152081] },\n",
      "  (merchant, rev_received by, transaction)={ edge_index=[2, 1152081] }\n",
      ")\n"
     ]
    }
   ],
   "source": [
    "print(data)"
   ]
  },
  {
   "cell_type": "code",
   "execution_count": 17,
   "metadata": {},
   "outputs": [
    {
     "name": "stderr",
     "output_type": "stream",
     "text": [
      "c:\\Users\\ruben\\AppData\\Local\\Programs\\Python\\Python312\\Lib\\site-packages\\torch_geometric\\nn\\to_hetero_transformer.py:165: UserWarning: The type 'received by' contains invalid characters which may lead to unexpected behavior. To avoid any issues, ensure that your types only contain letters, numbers and underscores.\n",
      "  warnings.warn(\n",
      "c:\\Users\\ruben\\AppData\\Local\\Programs\\Python\\Python312\\Lib\\site-packages\\torch_geometric\\nn\\to_hetero_transformer.py:165: UserWarning: The type 'rev_received by' contains invalid characters which may lead to unexpected behavior. To avoid any issues, ensure that your types only contain letters, numbers and underscores.\n",
      "  warnings.warn(\n"
     ]
    }
   ],
   "source": [
    "model = GraphSAGE3(in_channels=data.num_features, hidden_dim=128, embedding_dim=64, output_dim=1, num_layers=3, dropout_rate=0.5, sage_aggr='mean')\n",
    "model = to_hetero(model, data.metadata())\n",
    "data, model = data.to(device), model.to(device)\n",
    "\n",
    "optimizer = Adam(model.parameters(), lr=0.01, weight_decay=1e-5)\n",
    "scheduler = StepLR(optimizer, step_size=10, gamma=0.1)\n",
    "criterion = torch.nn.BCEWithLogitsLoss()"
   ]
  },
  {
   "cell_type": "code",
   "execution_count": 18,
   "metadata": {},
   "outputs": [],
   "source": [
    "@torch.no_grad()\n",
    "def init_params():\n",
    "    model(data.x_dict, data.edge_index_dict)"
   ]
  },
  {
   "cell_type": "code",
   "execution_count": 19,
   "metadata": {},
   "outputs": [],
   "source": [
    "def train():\n",
    "    model.train()\n",
    "    optimizer.zero_grad()\n",
    "    out = model(data.x_dict, data.edge_index_dict)['transaction']\n",
    "    loss = criterion(out.squeeze(1)[data['transaction'].train_mask], data['transaction'].y[data['transaction'].train_mask].float())\n",
    "    loss.backward()\n",
    "    optimizer.step()\n",
    "    scheduler.step()\n",
    "    return loss.item()"
   ]
  },
  {
   "cell_type": "code",
   "execution_count": 20,
   "metadata": {},
   "outputs": [],
   "source": [
    "@torch.no_grad()\n",
    "def test(mask):\n",
    "    model.eval()\n",
    "    out = model(data.x_dict, data.edge_index_dict)['transaction']\n",
    "    loss = criterion(out.squeeze(1)[mask], data['transaction'].y[mask].float())\n",
    "    y_pred_proba = torch.sigmoid(out[mask]).cpu().numpy()\n",
    "    y_true = data['transaction'].y[mask].cpu().numpy()\n",
    "    return y_true, y_pred_proba, loss.item()"
   ]
  },
  {
   "cell_type": "code",
   "execution_count": 21,
   "metadata": {},
   "outputs": [
    {
     "name": "stdout",
     "output_type": "stream",
     "text": [
      "Epoch 01, Training loss: 0.7152\n",
      "Epoch 01, Validation loss: 0.1681\n",
      "Epoch 01, Average precision validation set: 0.04, ROC AUC validation set: 0.71\n",
      "Epoch 02, Training loss: 1.0787\n",
      "Epoch 02, Validation loss: 0.7003\n",
      "Epoch 02, Average precision validation set: 0.01, ROC AUC validation set: 0.57\n",
      "Epoch 03, Training loss: 0.6921\n",
      "Epoch 03, Validation loss: 0.7656\n",
      "Epoch 03, Average precision validation set: 0.02, ROC AUC validation set: 0.61\n",
      "Epoch 04, Training loss: 0.6995\n",
      "Epoch 04, Validation loss: 0.6704\n",
      "Epoch 04, Average precision validation set: 0.03, ROC AUC validation set: 0.70\n",
      "Epoch 05, Training loss: 0.6916\n",
      "Epoch 05, Validation loss: 0.6542\n",
      "Epoch 05, Average precision validation set: 0.02, ROC AUC validation set: 0.73\n",
      "Epoch 06, Training loss: 0.6915\n",
      "Epoch 06, Validation loss: 0.6508\n",
      "Epoch 06, Average precision validation set: 0.03, ROC AUC validation set: 0.75\n",
      "Epoch 07, Training loss: 0.6900\n",
      "Epoch 07, Validation loss: 0.6604\n",
      "Epoch 07, Average precision validation set: 0.08, ROC AUC validation set: 0.78\n",
      "Epoch 08, Training loss: 0.6880\n",
      "Epoch 08, Validation loss: 0.7091\n",
      "Epoch 08, Average precision validation set: 0.08, ROC AUC validation set: 0.79\n",
      "Epoch 09, Training loss: 0.6895\n",
      "Epoch 09, Validation loss: 0.6657\n",
      "Epoch 09, Average precision validation set: 0.10, ROC AUC validation set: 0.79\n",
      "Epoch 10, Training loss: 0.6846\n",
      "Epoch 10, Validation loss: 0.6532\n",
      "Epoch 10, Average precision validation set: 0.10, ROC AUC validation set: 0.78\n",
      "Epoch 11, Training loss: 0.6837\n",
      "Epoch 11, Validation loss: 0.6535\n",
      "Epoch 11, Average precision validation set: 0.10, ROC AUC validation set: 0.78\n",
      "Epoch 12, Training loss: 0.6817\n",
      "Epoch 12, Validation loss: 0.6546\n",
      "Epoch 12, Average precision validation set: 0.10, ROC AUC validation set: 0.79\n",
      "Epoch 13, Training loss: 0.6827\n",
      "Epoch 13, Validation loss: 0.6568\n",
      "Epoch 13, Average precision validation set: 0.11, ROC AUC validation set: 0.79\n",
      "Epoch 14, Training loss: 0.6814\n",
      "Epoch 14, Validation loss: 0.6600\n",
      "Epoch 14, Average precision validation set: 0.11, ROC AUC validation set: 0.79\n",
      "Epoch 15, Training loss: 0.6810\n",
      "Epoch 15, Validation loss: 0.6643\n",
      "Epoch 15, Average precision validation set: 0.11, ROC AUC validation set: 0.79\n",
      "Early stopping triggered at epoch 15\n"
     ]
    }
   ],
   "source": [
    "init_params()\n",
    "\n",
    "training_losses = []\n",
    "validation_losses = []\n",
    "\n",
    "consecutive_increases = 0\n",
    "max_consecutive_increases = 5\n",
    "\n",
    "for epoch in range(50):\n",
    "    loss = train()\n",
    "    print(f'Epoch {epoch+1:02d}, Training loss: {loss:.4f}')\n",
    "    training_losses.append(loss)\n",
    "\n",
    "    y_val, y_val_pred_proba, val_loss = test(data['transaction'].val_mask)\n",
    "    print(f'Epoch {epoch+1:02d}, Validation loss: {val_loss:.4f}')\n",
    "    validation_losses.append(val_loss)\n",
    "\n",
    "    ap_val = average_precision_score(y_val, y_val_pred_proba)\n",
    "    roc_val = roc_auc_score(y_val, y_val_pred_proba)\n",
    "\n",
    "    print(f'Epoch {epoch+1:02d}, Average precision validation set: {ap_val:.2f}, ROC AUC validation set: {roc_val:.2f}')\n",
    "\n",
    "    # Check for early stopping\n",
    "    if epoch > 0 and val_loss >= validation_losses[-2]:\n",
    "        consecutive_increases += 1\n",
    "        if consecutive_increases >= max_consecutive_increases:\n",
    "            print(f'Early stopping triggered at epoch {epoch+1}')\n",
    "            break\n",
    "    else:\n",
    "        consecutive_increases = 0"
   ]
  },
  {
   "cell_type": "code",
   "execution_count": 22,
   "metadata": {},
   "outputs": [
    {
     "data": {
      "image/png": "[encoded data removed]",
      "text/plain": [
       "<Figure size 640x480 with 1 Axes>"
      ]
     },
     "metadata": {},
     "output_type": "display_data"
    }
   ],
   "source": [
    "import matplotlib.pyplot as plt\n",
    "\n",
    "plt.figure()\n",
    "plt.plot(range(1, 16), training_losses, label='Training Loss')\n",
    "plt.plot(range(1, 16), validation_losses, label='Validation Loss')\n",
    "plt.xlabel('Epoch')\n",
    "plt.ylabel('Loss')\n",
    "plt.title('Training and Validation Loss Curves')\n",
    "plt.legend()\n",
    "\n",
    "# Set x-axis to have increments of 1\n",
    "plt.xticks(range(1, 16))\n",
    "\n",
    "plt.show()"
   ]
  },
  {
   "cell_type": "code",
   "execution_count": 24,
   "metadata": {},
   "outputs": [
    {
     "name": "stdout",
     "output_type": "stream",
     "text": [
      "Average precision testing set: 0.0676, ROC AUC testing set: 0.7751\n"
     ]
    }
   ],
   "source": [
    "# Evaluate the model on the test set\n",
    "y_test, y_test_pred_proba, test_loss = test(data['transaction'].test_mask)\n",
    "ap_test = average_precision_score(y_test, y_test_pred_proba)\n",
    "roc_test = roc_auc_score(y_test, y_test_pred_proba)\n",
    "\n",
    "print(f'Average precision testing set: {ap_test:.4f}, ROC AUC testing set: {roc_test:.4f}')"
   ]
  }
 ],
 "metadata": {
  "kernelspec": {
   "display_name": "Python 3",
   "language": "python",
   "name": "python3"
  },
  "language_info": {
   "codemirror_mode": {
    "name": "ipython",
    "version": 3
   },
   "file_extension": ".py",
   "mimetype": "text/x-python",
   "name": "python",
   "nbconvert_exporter": "python",
   "pygments_lexer": "ipython3",
   "version": "3.12.2"
  }
 },
 "nbformat": 4,
 "nbformat_minor": 2
}
