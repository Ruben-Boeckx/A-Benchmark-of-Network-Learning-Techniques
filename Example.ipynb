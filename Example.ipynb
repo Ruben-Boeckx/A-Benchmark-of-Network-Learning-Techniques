{
 "cells": [
  {
   "cell_type": "code",
   "execution_count": 7,
   "metadata": {},
   "outputs": [],
   "source": [
    "import sys\n",
    "sys.path.append(\"./Preprocessing\")\n",
    "sys.path.append(\"./Graph\")\n",
    "\n",
    "import pandas as pd\n",
    "import torch\n",
    "from feature_engineering import FeatureEngineering\n",
    "from Resampling import Resampling\n",
    "from graph_construction import GraphConstruction"
   ]
  },
  {
   "cell_type": "code",
   "execution_count": 2,
   "metadata": {},
   "outputs": [
    {
     "name": "stdout",
     "output_type": "stream",
     "text": [
      "Feature engineering completed.\n",
      "Fraud rate in training set before resampling: 0.56%\n",
      "Fraud rate in testing set: 0.60%\n",
      "Fraud rate in training set after resampling: 50.00%\n",
      "Fraud rate in testing set after resampling: 0.60%\n"
     ]
    }
   ],
   "source": [
    "dataset = pd.read_csv('C:/Users/ruben/OneDrive/Desktop/Datasets/original_dataset.csv')\n",
    "\n",
    "# Apply feature engineering on the dataset\n",
    "fe = FeatureEngineering(dataset)\n",
    "processed_dataset = fe.apply_feature_engineering()\n",
    "\n",
    "# Apply resampling on the dataset\n",
    "resampler = Resampling(processed_dataset, test_size=0.4, random_state=None)\n",
    "final_dataset = resampler.apply_resampling()"
   ]
  },
  {
   "cell_type": "code",
   "execution_count": 3,
   "metadata": {},
   "outputs": [
    {
     "data": {
      "text/html": [
       "<div>\n",
       "<style scoped>\n",
       "    .dataframe tbody tr th:only-of-type {\n",
       "        vertical-align: middle;\n",
       "    }\n",
       "\n",
       "    .dataframe tbody tr th {\n",
       "        vertical-align: top;\n",
       "    }\n",
       "\n",
       "    .dataframe thead th {\n",
       "        text-align: right;\n",
       "    }\n",
       "</style>\n",
       "<table border=\"1\" class=\"dataframe\">\n",
       "  <thead>\n",
       "    <tr style=\"text-align: right;\">\n",
       "      <th></th>\n",
       "      <th>index</th>\n",
       "      <th>category</th>\n",
       "      <th>gender</th>\n",
       "      <th>city</th>\n",
       "      <th>state</th>\n",
       "      <th>job</th>\n",
       "      <th>hour</th>\n",
       "      <th>day</th>\n",
       "      <th>month</th>\n",
       "      <th>weekday</th>\n",
       "      <th>age</th>\n",
       "      <th>distance_km</th>\n",
       "      <th>hours_diff_bet_trans</th>\n",
       "      <th>amt_log</th>\n",
       "      <th>is_fraud</th>\n",
       "      <th>cc_user</th>\n",
       "      <th>merchant_num</th>\n",
       "    </tr>\n",
       "  </thead>\n",
       "  <tbody>\n",
       "    <tr>\n",
       "      <th>0</th>\n",
       "      <td>0</td>\n",
       "      <td>0.559000</td>\n",
       "      <td>0</td>\n",
       "      <td>0.364171</td>\n",
       "      <td>0.173886</td>\n",
       "      <td>0.581867</td>\n",
       "      <td>1.000000</td>\n",
       "      <td>1.000000</td>\n",
       "      <td>0.181818</td>\n",
       "      <td>0.166667</td>\n",
       "      <td>0.365854</td>\n",
       "      <td>0.807958</td>\n",
       "      <td>0.000000</td>\n",
       "      <td>0.246234</td>\n",
       "      <td>0</td>\n",
       "      <td>429.0</td>\n",
       "      <td>152.0</td>\n",
       "    </tr>\n",
       "    <tr>\n",
       "      <th>1</th>\n",
       "      <td>1</td>\n",
       "      <td>1.000000</td>\n",
       "      <td>1</td>\n",
       "      <td>0.270945</td>\n",
       "      <td>0.594000</td>\n",
       "      <td>0.261154</td>\n",
       "      <td>0.217391</td>\n",
       "      <td>0.833333</td>\n",
       "      <td>0.181818</td>\n",
       "      <td>0.166667</td>\n",
       "      <td>0.951220</td>\n",
       "      <td>0.085104</td>\n",
       "      <td>0.016129</td>\n",
       "      <td>0.375495</td>\n",
       "      <td>0</td>\n",
       "      <td>420.0</td>\n",
       "      <td>113.0</td>\n",
       "    </tr>\n",
       "    <tr>\n",
       "      <th>2</th>\n",
       "      <td>2</td>\n",
       "      <td>0.912004</td>\n",
       "      <td>0</td>\n",
       "      <td>0.450446</td>\n",
       "      <td>0.455828</td>\n",
       "      <td>0.469095</td>\n",
       "      <td>0.391304</td>\n",
       "      <td>0.300000</td>\n",
       "      <td>0.454545</td>\n",
       "      <td>0.333333</td>\n",
       "      <td>0.390244</td>\n",
       "      <td>0.640710</td>\n",
       "      <td>0.032258</td>\n",
       "      <td>0.397857</td>\n",
       "      <td>0</td>\n",
       "      <td>204.0</td>\n",
       "      <td>204.0</td>\n",
       "    </tr>\n",
       "    <tr>\n",
       "      <th>3</th>\n",
       "      <td>3</td>\n",
       "      <td>0.625724</td>\n",
       "      <td>0</td>\n",
       "      <td>0.359537</td>\n",
       "      <td>0.270716</td>\n",
       "      <td>0.787249</td>\n",
       "      <td>1.000000</td>\n",
       "      <td>0.333333</td>\n",
       "      <td>0.545455</td>\n",
       "      <td>0.500000</td>\n",
       "      <td>0.475610</td>\n",
       "      <td>0.414337</td>\n",
       "      <td>0.000000</td>\n",
       "      <td>0.662805</td>\n",
       "      <td>1</td>\n",
       "      <td>226.0</td>\n",
       "      <td>218.0</td>\n",
       "    </tr>\n",
       "    <tr>\n",
       "      <th>4</th>\n",
       "      <td>4</td>\n",
       "      <td>0.835582</td>\n",
       "      <td>1</td>\n",
       "      <td>0.452941</td>\n",
       "      <td>0.308232</td>\n",
       "      <td>0.156365</td>\n",
       "      <td>0.956522</td>\n",
       "      <td>0.066667</td>\n",
       "      <td>0.272727</td>\n",
       "      <td>0.666667</td>\n",
       "      <td>0.682927</td>\n",
       "      <td>0.171983</td>\n",
       "      <td>0.013441</td>\n",
       "      <td>0.653276</td>\n",
       "      <td>1</td>\n",
       "      <td>190.0</td>\n",
       "      <td>393.0</td>\n",
       "    </tr>\n",
       "  </tbody>\n",
       "</table>\n",
       "</div>"
      ],
      "text/plain": [
       "   index  category  gender      city     state       job      hour       day  \\\n",
       "0      0  0.559000       0  0.364171  0.173886  0.581867  1.000000  1.000000   \n",
       "1      1  1.000000       1  0.270945  0.594000  0.261154  0.217391  0.833333   \n",
       "2      2  0.912004       0  0.450446  0.455828  0.469095  0.391304  0.300000   \n",
       "3      3  0.625724       0  0.359537  0.270716  0.787249  1.000000  0.333333   \n",
       "4      4  0.835582       1  0.452941  0.308232  0.156365  0.956522  0.066667   \n",
       "\n",
       "      month   weekday       age  distance_km  hours_diff_bet_trans   amt_log  \\\n",
       "0  0.181818  0.166667  0.365854     0.807958              0.000000  0.246234   \n",
       "1  0.181818  0.166667  0.951220     0.085104              0.016129  0.375495   \n",
       "2  0.454545  0.333333  0.390244     0.640710              0.032258  0.397857   \n",
       "3  0.545455  0.500000  0.475610     0.414337              0.000000  0.662805   \n",
       "4  0.272727  0.666667  0.682927     0.171983              0.013441  0.653276   \n",
       "\n",
       "   is_fraud  cc_user  merchant_num  \n",
       "0         0    429.0         152.0  \n",
       "1         0    420.0         113.0  \n",
       "2         0    204.0         204.0  \n",
       "3         1    226.0         218.0  \n",
       "4         1    190.0         393.0  "
      ]
     },
     "execution_count": 3,
     "metadata": {},
     "output_type": "execute_result"
    }
   ],
   "source": [
    "final_dataset.head()"
   ]
  },
  {
   "cell_type": "code",
   "execution_count": 5,
   "metadata": {},
   "outputs": [
    {
     "name": "stdout",
     "output_type": "stream",
     "text": [
      "Using device: cuda\n"
     ]
    }
   ],
   "source": [
    "# set device\n",
    "device = torch.device('cuda' if torch.cuda.is_available() else 'cpu')\n",
    "print('Using device:', device)"
   ]
  },
  {
   "cell_type": "code",
   "execution_count": 8,
   "metadata": {},
   "outputs": [
    {
     "name": "stdout",
     "output_type": "stream",
     "text": [
      "Fraud Percentage in Train Mask: 49.20%\n",
      "Fraud Percentage in Test Mask: 0.59%\n",
      "Fraud Percentage in Val Mask: 0.60%\n",
      "Graph Construction Successful!\n"
     ]
    }
   ],
   "source": [
    "graph_constructor = GraphConstruction(final_dataset)\n",
    "data = graph_constructor.apply_graph_construction()"
   ]
  }
 ],
 "metadata": {
  "kernelspec": {
   "display_name": "Python 3",
   "language": "python",
   "name": "python3"
  },
  "language_info": {
   "codemirror_mode": {
    "name": "ipython",
    "version": 3
   },
   "file_extension": ".py",
   "mimetype": "text/x-python",
   "name": "python",
   "nbconvert_exporter": "python",
   "pygments_lexer": "ipython3",
   "version": "3.12.2"
  }
 },
 "nbformat": 4,
 "nbformat_minor": 2
}
