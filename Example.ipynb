{
 "cells": [
  {
   "cell_type": "code",
   "execution_count": 10,
   "metadata": {},
   "outputs": [],
   "source": [
    "import sys\n",
    "sys.path.append(\"./Preprocessing\")\n",
    "sys.path.append(\"./Graph\")\n",
    "\n",
    "import pandas as pd\n",
    "import torch\n",
    "from feature_engineering import FeatureEngineering\n",
    "from Resampling import Resampling\n",
    "from graph_construction import GraphConstruction"
   ]
  },
  {
   "cell_type": "code",
   "execution_count": 11,
   "metadata": {},
   "outputs": [
    {
     "name": "stdout",
     "output_type": "stream",
     "text": [
      "Feature engineering completed.\n",
      "Fraud rate in training set before resampling: 0.54%\n",
      "Fraud rate in testing set: 0.62%\n",
      "Fraud rate in training set after resampling: 50.00%\n",
      "Fraud rate in testing set after resampling: 0.62%\n",
      "Length of training set: 953192\n",
      "Length of testing set: 198889\n"
     ]
    }
   ],
   "source": [
    "dataset = pd.read_csv('C:/Users/ruben/OneDrive/Desktop/Datasets/original_dataset.csv')\n",
    "\n",
    "# Apply feature engineering on the dataset\n",
    "fe = FeatureEngineering(dataset)\n",
    "processed_dataset = fe.apply_feature_engineering()\n",
    "\n",
    "# Apply resampling on the dataset\n",
    "resampler = Resampling(processed_dataset, test_size=0.4, random_state=42)\n",
    "final_dataset = resampler.apply_resampling()"
   ]
  },
  {
   "cell_type": "code",
   "execution_count": 12,
   "metadata": {},
   "outputs": [
    {
     "data": {
      "text/html": [
       "<div>\n",
       "<style scoped>\n",
       "    .dataframe tbody tr th:only-of-type {\n",
       "        vertical-align: middle;\n",
       "    }\n",
       "\n",
       "    .dataframe tbody tr th {\n",
       "        vertical-align: top;\n",
       "    }\n",
       "\n",
       "    .dataframe thead th {\n",
       "        text-align: right;\n",
       "    }\n",
       "</style>\n",
       "<table border=\"1\" class=\"dataframe\">\n",
       "  <thead>\n",
       "    <tr style=\"text-align: right;\">\n",
       "      <th></th>\n",
       "      <th>index</th>\n",
       "      <th>category</th>\n",
       "      <th>gender</th>\n",
       "      <th>city</th>\n",
       "      <th>state</th>\n",
       "      <th>job</th>\n",
       "      <th>hour</th>\n",
       "      <th>day</th>\n",
       "      <th>month</th>\n",
       "      <th>weekday</th>\n",
       "      <th>age</th>\n",
       "      <th>distance_km</th>\n",
       "      <th>hours_diff_bet_trans</th>\n",
       "      <th>amt_log</th>\n",
       "      <th>is_fraud</th>\n",
       "      <th>cc_user</th>\n",
       "      <th>merchant_num</th>\n",
       "    </tr>\n",
       "  </thead>\n",
       "  <tbody>\n",
       "    <tr>\n",
       "      <th>0</th>\n",
       "      <td>0</td>\n",
       "      <td>0.625724</td>\n",
       "      <td>0</td>\n",
       "      <td>0.548841</td>\n",
       "      <td>0.281046</td>\n",
       "      <td>0.261257</td>\n",
       "      <td>0.956522</td>\n",
       "      <td>0.633333</td>\n",
       "      <td>0.090909</td>\n",
       "      <td>0.500000</td>\n",
       "      <td>0.463415</td>\n",
       "      <td>0.404668</td>\n",
       "      <td>0.00000</td>\n",
       "      <td>0.652271</td>\n",
       "      <td>1</td>\n",
       "      <td>533.0</td>\n",
       "      <td>202.0</td>\n",
       "    </tr>\n",
       "    <tr>\n",
       "      <th>1</th>\n",
       "      <td>1</td>\n",
       "      <td>0.551288</td>\n",
       "      <td>1</td>\n",
       "      <td>0.369519</td>\n",
       "      <td>0.880095</td>\n",
       "      <td>0.318870</td>\n",
       "      <td>0.956522</td>\n",
       "      <td>0.133333</td>\n",
       "      <td>0.909091</td>\n",
       "      <td>0.166667</td>\n",
       "      <td>0.426829</td>\n",
       "      <td>0.367390</td>\n",
       "      <td>0.05914</td>\n",
       "      <td>0.056819</td>\n",
       "      <td>0</td>\n",
       "      <td>88.0</td>\n",
       "      <td>125.0</td>\n",
       "    </tr>\n",
       "    <tr>\n",
       "      <th>2</th>\n",
       "      <td>2</td>\n",
       "      <td>0.795682</td>\n",
       "      <td>0</td>\n",
       "      <td>0.364171</td>\n",
       "      <td>0.173886</td>\n",
       "      <td>0.581867</td>\n",
       "      <td>0.913043</td>\n",
       "      <td>0.833333</td>\n",
       "      <td>0.454545</td>\n",
       "      <td>0.333333</td>\n",
       "      <td>0.353659</td>\n",
       "      <td>0.436029</td>\n",
       "      <td>0.00000</td>\n",
       "      <td>0.129986</td>\n",
       "      <td>0</td>\n",
       "      <td>424.0</td>\n",
       "      <td>277.0</td>\n",
       "    </tr>\n",
       "    <tr>\n",
       "      <th>3</th>\n",
       "      <td>3</td>\n",
       "      <td>0.249912</td>\n",
       "      <td>1</td>\n",
       "      <td>0.181640</td>\n",
       "      <td>0.254662</td>\n",
       "      <td>0.422534</td>\n",
       "      <td>1.000000</td>\n",
       "      <td>0.366667</td>\n",
       "      <td>0.818182</td>\n",
       "      <td>0.833333</td>\n",
       "      <td>0.597561</td>\n",
       "      <td>0.581854</td>\n",
       "      <td>0.00000</td>\n",
       "      <td>0.625768</td>\n",
       "      <td>1</td>\n",
       "      <td>394.0</td>\n",
       "      <td>173.0</td>\n",
       "    </tr>\n",
       "    <tr>\n",
       "      <th>4</th>\n",
       "      <td>4</td>\n",
       "      <td>0.912004</td>\n",
       "      <td>1</td>\n",
       "      <td>0.464171</td>\n",
       "      <td>0.172853</td>\n",
       "      <td>0.634261</td>\n",
       "      <td>0.043478</td>\n",
       "      <td>0.200000</td>\n",
       "      <td>0.363636</td>\n",
       "      <td>0.500000</td>\n",
       "      <td>0.414634</td>\n",
       "      <td>0.377778</td>\n",
       "      <td>0.00000</td>\n",
       "      <td>0.526146</td>\n",
       "      <td>1</td>\n",
       "      <td>565.0</td>\n",
       "      <td>215.0</td>\n",
       "    </tr>\n",
       "  </tbody>\n",
       "</table>\n",
       "</div>"
      ],
      "text/plain": [
       "   index  category  gender      city     state       job      hour       day  \\\n",
       "0      0  0.625724       0  0.548841  0.281046  0.261257  0.956522  0.633333   \n",
       "1      1  0.551288       1  0.369519  0.880095  0.318870  0.956522  0.133333   \n",
       "2      2  0.795682       0  0.364171  0.173886  0.581867  0.913043  0.833333   \n",
       "3      3  0.249912       1  0.181640  0.254662  0.422534  1.000000  0.366667   \n",
       "4      4  0.912004       1  0.464171  0.172853  0.634261  0.043478  0.200000   \n",
       "\n",
       "      month   weekday       age  distance_km  hours_diff_bet_trans   amt_log  \\\n",
       "0  0.090909  0.500000  0.463415     0.404668               0.00000  0.652271   \n",
       "1  0.909091  0.166667  0.426829     0.367390               0.05914  0.056819   \n",
       "2  0.454545  0.333333  0.353659     0.436029               0.00000  0.129986   \n",
       "3  0.818182  0.833333  0.597561     0.581854               0.00000  0.625768   \n",
       "4  0.363636  0.500000  0.414634     0.377778               0.00000  0.526146   \n",
       "\n",
       "   is_fraud  cc_user  merchant_num  \n",
       "0         1    533.0         202.0  \n",
       "1         0     88.0         125.0  \n",
       "2         0    424.0         277.0  \n",
       "3         1    394.0         173.0  \n",
       "4         1    565.0         215.0  "
      ]
     },
     "execution_count": 12,
     "metadata": {},
     "output_type": "execute_result"
    }
   ],
   "source": [
    "final_dataset.head()"
   ]
  },
  {
   "cell_type": "code",
   "execution_count": 13,
   "metadata": {},
   "outputs": [
    {
     "name": "stdout",
     "output_type": "stream",
     "text": [
      "Using device: cuda\n"
     ]
    }
   ],
   "source": [
    "# set device\n",
    "device = torch.device('cuda' if torch.cuda.is_available() else 'cpu')\n",
    "print('Using device:', device)"
   ]
  },
  {
   "cell_type": "code",
   "execution_count": 14,
   "metadata": {},
   "outputs": [
    {
     "name": "stdout",
     "output_type": "stream",
     "text": [
      "Fraud Percentage in Train Mask: 50.01%\n",
      "Fraud Percentage in Test Mask: 13.62%\n",
      "Fraud Percentage in Val Mask: 0.64%\n"
     ]
    },
    {
     "ename": "ValueError",
     "evalue": "'edge_index' of edge type ('client', 'pays', 'transaction') contains larger source indices than the number of nodes (983) of this node type in 'HeteroData' (found 983)",
     "output_type": "error",
     "traceback": [
      "\u001b[1;31m---------------------------------------------------------------------------\u001b[0m",
      "\u001b[1;31mValueError\u001b[0m                                Traceback (most recent call last)",
      "Cell \u001b[1;32mIn[14], line 2\u001b[0m\n\u001b[0;32m      1\u001b[0m graph_constructor \u001b[38;5;241m=\u001b[39m GraphConstruction(final_dataset)\n\u001b[1;32m----> 2\u001b[0m data \u001b[38;5;241m=\u001b[39m \u001b[43mgraph_constructor\u001b[49m\u001b[38;5;241;43m.\u001b[39;49m\u001b[43mapply_graph_construction\u001b[49m\u001b[43m(\u001b[49m\u001b[43m)\u001b[49m\n",
      "File \u001b[1;32mc:\\Users\\ruben\\OneDrive\\Desktop\\A-Benchmark-of-Network-Learning-Techniques\\Graph\\graph_construction.py:126\u001b[0m, in \u001b[0;36mGraphConstruction.apply_graph_construction\u001b[1;34m(self)\u001b[0m\n\u001b[0;32m    123\u001b[0m \u001b[38;5;28mprint\u001b[39m(\u001b[38;5;124mf\u001b[39m\u001b[38;5;124m'\u001b[39m\u001b[38;5;124mFraud Percentage in Test Mask: \u001b[39m\u001b[38;5;132;01m{\u001b[39;00mfraud_percentage_test_mask\u001b[38;5;132;01m:\u001b[39;00m\u001b[38;5;124m.2f\u001b[39m\u001b[38;5;132;01m}\u001b[39;00m\u001b[38;5;124m%\u001b[39m\u001b[38;5;124m'\u001b[39m)\n\u001b[0;32m    124\u001b[0m \u001b[38;5;28mprint\u001b[39m(\u001b[38;5;124mf\u001b[39m\u001b[38;5;124m'\u001b[39m\u001b[38;5;124mFraud Percentage in Val Mask: \u001b[39m\u001b[38;5;132;01m{\u001b[39;00mfraud_percentage_val_mask\u001b[38;5;132;01m:\u001b[39;00m\u001b[38;5;124m.2f\u001b[39m\u001b[38;5;132;01m}\u001b[39;00m\u001b[38;5;124m%\u001b[39m\u001b[38;5;124m'\u001b[39m)\n\u001b[1;32m--> 126\u001b[0m \u001b[43mdata\u001b[49m\u001b[38;5;241;43m.\u001b[39;49m\u001b[43mvalidate\u001b[49m\u001b[43m(\u001b[49m\u001b[43m)\u001b[49m\n\u001b[0;32m    127\u001b[0m \u001b[38;5;28mprint\u001b[39m(\u001b[38;5;124m'\u001b[39m\u001b[38;5;124mGraph Construction Successful!\u001b[39m\u001b[38;5;124m'\u001b[39m)\n\u001b[0;32m    128\u001b[0m \u001b[38;5;28;01mreturn\u001b[39;00m data\n",
      "File \u001b[1;32mc:\\Users\\ruben\\AppData\\Local\\Programs\\Python\\Python312\\Lib\\site-packages\\torch_geometric\\data\\hetero_data.py:456\u001b[0m, in \u001b[0;36mHeteroData.validate\u001b[1;34m(self, raise_on_error)\u001b[0m\n\u001b[0;32m    453\u001b[0m \u001b[38;5;28;01mif\u001b[39;00m (num_src_nodes \u001b[38;5;129;01mis\u001b[39;00m \u001b[38;5;129;01mnot\u001b[39;00m \u001b[38;5;28;01mNone\u001b[39;00m\n\u001b[0;32m    454\u001b[0m         \u001b[38;5;129;01mand\u001b[39;00m store\u001b[38;5;241m.\u001b[39medge_index[\u001b[38;5;241m0\u001b[39m]\u001b[38;5;241m.\u001b[39mmax() \u001b[38;5;241m>\u001b[39m\u001b[38;5;241m=\u001b[39m num_src_nodes):\n\u001b[0;32m    455\u001b[0m     status \u001b[38;5;241m=\u001b[39m \u001b[38;5;28;01mFalse\u001b[39;00m\n\u001b[1;32m--> 456\u001b[0m     \u001b[43mwarn_or_raise\u001b[49m\u001b[43m(\u001b[49m\n\u001b[0;32m    457\u001b[0m \u001b[43m        \u001b[49m\u001b[38;5;124;43mf\u001b[39;49m\u001b[38;5;124;43m\"\u001b[39;49m\u001b[38;5;124;43m'\u001b[39;49m\u001b[38;5;124;43medge_index\u001b[39;49m\u001b[38;5;124;43m'\u001b[39;49m\u001b[38;5;124;43m of edge type \u001b[39;49m\u001b[38;5;132;43;01m{\u001b[39;49;00m\u001b[43medge_type\u001b[49m\u001b[38;5;132;43;01m}\u001b[39;49;00m\u001b[38;5;124;43m contains \u001b[39;49m\u001b[38;5;124;43m\"\u001b[39;49m\n\u001b[0;32m    458\u001b[0m \u001b[43m        \u001b[49m\u001b[38;5;124;43mf\u001b[39;49m\u001b[38;5;124;43m\"\u001b[39;49m\u001b[38;5;124;43mlarger source indices than the number of nodes \u001b[39;49m\u001b[38;5;124;43m\"\u001b[39;49m\n\u001b[0;32m    459\u001b[0m \u001b[43m        \u001b[49m\u001b[38;5;124;43mf\u001b[39;49m\u001b[38;5;124;43m\"\u001b[39;49m\u001b[38;5;124;43m(\u001b[39;49m\u001b[38;5;132;43;01m{\u001b[39;49;00m\u001b[43mnum_src_nodes\u001b[49m\u001b[38;5;132;43;01m}\u001b[39;49;00m\u001b[38;5;124;43m) of this node type in \u001b[39;49m\u001b[38;5;124;43m'\u001b[39;49m\u001b[38;5;132;43;01m{\u001b[39;49;00m\u001b[43mcls_name\u001b[49m\u001b[38;5;132;43;01m}\u001b[39;49;00m\u001b[38;5;124;43m'\u001b[39;49m\u001b[38;5;124;43m \u001b[39;49m\u001b[38;5;124;43m\"\u001b[39;49m\n\u001b[0;32m    460\u001b[0m \u001b[43m        \u001b[49m\u001b[38;5;124;43mf\u001b[39;49m\u001b[38;5;124;43m\"\u001b[39;49m\u001b[38;5;124;43m(found \u001b[39;49m\u001b[38;5;132;43;01m{\u001b[39;49;00m\u001b[38;5;28;43mint\u001b[39;49m\u001b[43m(\u001b[49m\u001b[43mstore\u001b[49m\u001b[38;5;241;43m.\u001b[39;49m\u001b[43medge_index\u001b[49m\u001b[43m[\u001b[49m\u001b[38;5;241;43m0\u001b[39;49m\u001b[43m]\u001b[49m\u001b[38;5;241;43m.\u001b[39;49m\u001b[43mmax\u001b[49m\u001b[43m(\u001b[49m\u001b[43m)\u001b[49m\u001b[43m)\u001b[49m\u001b[38;5;132;43;01m}\u001b[39;49;00m\u001b[38;5;124;43m)\u001b[39;49m\u001b[38;5;124;43m\"\u001b[39;49m\u001b[43m,\u001b[49m\n\u001b[0;32m    461\u001b[0m \u001b[43m        \u001b[49m\u001b[43mraise_on_error\u001b[49m\u001b[43m)\u001b[49m\n\u001b[0;32m    463\u001b[0m \u001b[38;5;28;01mif\u001b[39;00m (num_dst_nodes \u001b[38;5;129;01mis\u001b[39;00m \u001b[38;5;129;01mnot\u001b[39;00m \u001b[38;5;28;01mNone\u001b[39;00m\n\u001b[0;32m    464\u001b[0m         \u001b[38;5;129;01mand\u001b[39;00m store\u001b[38;5;241m.\u001b[39medge_index[\u001b[38;5;241m1\u001b[39m]\u001b[38;5;241m.\u001b[39mmax() \u001b[38;5;241m>\u001b[39m\u001b[38;5;241m=\u001b[39m num_dst_nodes):\n\u001b[0;32m    465\u001b[0m     status \u001b[38;5;241m=\u001b[39m \u001b[38;5;28;01mFalse\u001b[39;00m\n",
      "File \u001b[1;32mc:\\Users\\ruben\\AppData\\Local\\Programs\\Python\\Python312\\Lib\\site-packages\\torch_geometric\\data\\data.py:1190\u001b[0m, in \u001b[0;36mwarn_or_raise\u001b[1;34m(msg, raise_on_error)\u001b[0m\n\u001b[0;32m   1188\u001b[0m \u001b[38;5;28;01mdef\u001b[39;00m \u001b[38;5;21mwarn_or_raise\u001b[39m(msg: \u001b[38;5;28mstr\u001b[39m, raise_on_error: \u001b[38;5;28mbool\u001b[39m \u001b[38;5;241m=\u001b[39m \u001b[38;5;28;01mTrue\u001b[39;00m):\n\u001b[0;32m   1189\u001b[0m     \u001b[38;5;28;01mif\u001b[39;00m raise_on_error:\n\u001b[1;32m-> 1190\u001b[0m         \u001b[38;5;28;01mraise\u001b[39;00m \u001b[38;5;167;01mValueError\u001b[39;00m(msg)\n\u001b[0;32m   1191\u001b[0m     \u001b[38;5;28;01melse\u001b[39;00m:\n\u001b[0;32m   1192\u001b[0m         warnings\u001b[38;5;241m.\u001b[39mwarn(msg)\n",
      "\u001b[1;31mValueError\u001b[0m: 'edge_index' of edge type ('client', 'pays', 'transaction') contains larger source indices than the number of nodes (983) of this node type in 'HeteroData' (found 983)"
     ]
    }
   ],
   "source": [
    "graph_constructor = GraphConstruction(final_dataset)\n",
    "data = graph_constructor.apply_graph_construction()"
   ]
  }
 ],
 "metadata": {
  "kernelspec": {
   "display_name": "Python 3",
   "language": "python",
   "name": "python3"
  },
  "language_info": {
   "codemirror_mode": {
    "name": "ipython",
    "version": 3
   },
   "file_extension": ".py",
   "mimetype": "text/x-python",
   "name": "python",
   "nbconvert_exporter": "python",
   "pygments_lexer": "ipython3",
   "version": "3.12.2"
  }
 },
 "nbformat": 4,
 "nbformat_minor": 2
}
