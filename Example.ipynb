{
 "cells": [
  {
   "cell_type": "code",
   "execution_count": 12,
   "metadata": {},
   "outputs": [],
   "source": [
    "import sys\n",
    "sys.path.append(\"./Preprocessing\")\n",
    "sys.path.append(\"./Graph\")\n",
    "sys.path.append(\"./Models\")\n",
    "\n",
    "import pandas as pd\n",
    "import numpy as np\n",
    "import torch\n",
    "from feature_engineering import FeatureEngineering\n",
    "from Resampling import Resampling\n",
    "from graph_construction import GraphConstruction\n",
    "from GNNs import GraphSAGE, GCN, GAT\n",
    "from torch.optim import Adam\n",
    "from torch.optim.lr_scheduler import StepLR\n",
    "from torch_geometric.nn import to_hetero\n",
    "from torch_geometric.loader import HGTLoader\n",
    "from sklearn.metrics import average_precision_score, precision_score, recall_score, f1_score, roc_auc_score\n",
    "from tqdm import tqdm"
   ]
  },
  {
   "cell_type": "code",
   "execution_count": 2,
   "metadata": {},
   "outputs": [
    {
     "name": "stdout",
     "output_type": "stream",
     "text": [
      "Feature engineering completed.\n",
      "Fraud rate in training set before resampling: 0.54%\n",
      "Fraud rate in testing set: 0.62%\n",
      "Fraud rate in training set after resampling: 50.00%\n",
      "Fraud rate in testing set after resampling: 0.62%\n",
      "Length of training set: 953192\n",
      "Length of testing set: 198889\n"
     ]
    }
   ],
   "source": [
    "dataset = pd.read_csv('C:/Users/ruben/OneDrive/Desktop/Datasets/original_dataset.csv')\n",
    "\n",
    "# Apply feature engineering on the dataset\n",
    "fe = FeatureEngineering(dataset)\n",
    "processed_dataset = fe.apply_feature_engineering()\n",
    "\n",
    "# Apply resampling on the dataset\n",
    "resampler = Resampling(processed_dataset, test_size=0.4, random_state=42)\n",
    "final_dataset = resampler.apply_resampling()"
   ]
  },
  {
   "cell_type": "code",
   "execution_count": null,
   "metadata": {},
   "outputs": [],
   "source": [
    "final_dataset.head()\n",
    "final_dataset.to_csv('C:/Users/ruben/OneDrive/Desktop/Datasets/final_dataset.csv', index=False)"
   ]
  },
  {
   "cell_type": "code",
   "execution_count": 2,
   "metadata": {},
   "outputs": [
    {
     "name": "stdout",
     "output_type": "stream",
     "text": [
      "Using device: cuda\n"
     ]
    }
   ],
   "source": [
    "# set device\n",
    "device = torch.device('cuda' if torch.cuda.is_available() else 'cpu')\n",
    "print('Using device:', device)"
   ]
  },
  {
   "cell_type": "code",
   "execution_count": 14,
   "metadata": {},
   "outputs": [
    {
     "name": "stdout",
     "output_type": "stream",
     "text": [
      "Fraud Percentage in Train Mask: 50.00%\n",
      "Fraud Percentage in Test Mask: 0.61%\n",
      "Fraud Percentage in Val Mask: 0.63%\n",
      "Graph Construction Successful!\n"
     ]
    }
   ],
   "source": [
    "final_dataset = pd.read_csv('C:/Users/ruben/OneDrive/Desktop/Datasets/final_dataset.csv')\n",
    "\n",
    "# Percentage in Test and Val set is not the same because there is no stratified split performed\n",
    "graph_constructor = GraphConstruction(final_dataset)\n",
    "data = graph_constructor.apply_graph_construction()"
   ]
  },
  {
   "cell_type": "code",
   "execution_count": 15,
   "metadata": {},
   "outputs": [
    {
     "name": "stderr",
     "output_type": "stream",
     "text": [
      "c:\\Users\\ruben\\AppData\\Local\\Programs\\Python\\Python312\\Lib\\site-packages\\torch_geometric\\nn\\to_hetero_transformer.py:165: UserWarning: The type 'received by' contains invalid characters which may lead to unexpected behavior. To avoid any issues, ensure that your types only contain letters, numbers and underscores.\n",
      "  warnings.warn(\n",
      "c:\\Users\\ruben\\AppData\\Local\\Programs\\Python\\Python312\\Lib\\site-packages\\torch_geometric\\nn\\to_hetero_transformer.py:165: UserWarning: The type 'rev_received by' contains invalid characters which may lead to unexpected behavior. To avoid any issues, ensure that your types only contain letters, numbers and underscores.\n",
      "  warnings.warn(\n"
     ]
    }
   ],
   "source": [
    "# Initialize the model, optimizer, and scheduler\n",
    "# model = GraphSAGE(hidden_channels=64, out_channels=1, dropout_prob=0.5)\n",
    "model = GAT(hidden_channels=64, out_channels=1)\n",
    "model = to_hetero(model, data.metadata(), aggr='sum')\n",
    "model = model.to(device)\n",
    "\n",
    "optimizer = Adam(model.parameters(), lr=0.01, weight_decay=1e-5)\n",
    "scheduler = StepLR(optimizer, step_size=10, gamma=0.1)\n",
    "criterion = torch.nn.BCEWithLogitsLoss()"
   ]
  },
  {
   "cell_type": "code",
   "execution_count": 16,
   "metadata": {},
   "outputs": [],
   "source": [
    "# create loaders to facilitate mini-batch training\n",
    "# trainloader\n",
    "train_loader = HGTLoader(\n",
    "    data,\n",
    "    num_samples={key: [512] for key in data.node_types},\n",
    "    batch_size=512,\n",
    "    input_nodes=('transaction', data['transaction'].train_mask)\n",
    ")\n",
    "\n",
    "# test loader\n",
    "test_loader = HGTLoader(\n",
    "    data,\n",
    "    num_samples={key: [512] for key in data.node_types},\n",
    "    batch_size=512,\n",
    "    input_nodes=('transaction', data['transaction'].test_mask)\n",
    ")\n",
    "\n",
    "# val loader\n",
    "val_loader = HGTLoader(\n",
    "    data,\n",
    "    num_samples={key: [512] for key in data.node_types},\n",
    "    batch_size=512,\n",
    "    input_nodes=('transaction', data['transaction'].val_mask)\n",
    ")"
   ]
  },
  {
   "cell_type": "code",
   "execution_count": 17,
   "metadata": {},
   "outputs": [],
   "source": [
    "# Initialize parameters\n",
    "@torch.no_grad()\n",
    "def init_params():\n",
    "    batch = next(iter(train_loader))\n",
    "    batch = batch.to(device)\n",
    "    model(batch.x_dict, batch.edge_index_dict)"
   ]
  },
  {
   "cell_type": "code",
   "execution_count": 18,
   "metadata": {},
   "outputs": [],
   "source": [
    "# Training function\n",
    "def train():\n",
    "    model.train()\n",
    "    total_examples = total_loss = 0\n",
    "    \n",
    "    for batch in tqdm(train_loader):\n",
    "        optimizer.zero_grad()\n",
    "        batch = batch.to(device)\n",
    "        batch_size = batch['transaction'].batch_size\n",
    "        out = model(batch.x_dict, batch.edge_index_dict)['transaction'][:batch_size]\n",
    "        loss = criterion(out.squeeze(1), batch['transaction'].y[:batch_size].float())\n",
    "        loss.backward()\n",
    "        \n",
    "        # Clip gradients\n",
    "        # torch.nn.utils.clip_grad_norm_(model.parameters(), max_norm=1.0)\n",
    "        \n",
    "        optimizer.step()\n",
    "\n",
    "        total_examples += batch_size\n",
    "        total_loss += float(loss) * batch_size\n",
    "\n",
    "    scheduler.step()  # Update learning rate\n",
    "    return total_loss / total_examples"
   ]
  },
  {
   "cell_type": "code",
   "execution_count": 19,
   "metadata": {},
   "outputs": [],
   "source": [
    "# Testing function\n",
    "@torch.no_grad()\n",
    "def test(loader):\n",
    "    model.eval()\n",
    "    y_pred_probas = []\n",
    "    y_trues = []\n",
    "    total_examples = total_loss = 0\n",
    "\n",
    "    for batch in tqdm(loader):\n",
    "        batch = batch.to(device)\n",
    "        batch_size = batch['transaction'].batch_size\n",
    "        y = batch['transaction'].y[:batch_size]\n",
    "        y_hat = model(batch.x_dict, batch.edge_index_dict)['transaction'][:batch_size]\n",
    "        loss = criterion(y_hat.squeeze(1), y.float())\n",
    "\n",
    "        total_examples += batch_size\n",
    "        total_loss += float(loss) * batch_size\n",
    "        y_pred_probas.append(torch.sigmoid(y_hat.cpu()).numpy())\n",
    "        y_trues.append(y.cpu().numpy())\n",
    "\n",
    "    y_true = np.concatenate(y_trues)\n",
    "    y_pred_proba = np.concatenate(y_pred_probas)\n",
    "\n",
    "    return y_true, y_pred_proba, total_loss / total_examples"
   ]
  },
  {
   "cell_type": "code",
   "execution_count": 20,
   "metadata": {},
   "outputs": [
    {
     "name": "stderr",
     "output_type": "stream",
     "text": [
      "100%|██████████| 1862/1862 [03:56<00:00,  7.88it/s]\n"
     ]
    },
    {
     "name": "stdout",
     "output_type": "stream",
     "text": [
      "Epoch 01, Training loss: 0.2734\n"
     ]
    },
    {
     "name": "stderr",
     "output_type": "stream",
     "text": [
      "100%|██████████| 195/195 [00:11<00:00, 17.70it/s]\n"
     ]
    },
    {
     "name": "stdout",
     "output_type": "stream",
     "text": [
      "Epoch 01, Validation loss: 0.1546\n",
      "Epoch 01, Average precision validation set: 0.36, ROC AUC validation set: 0.97\n"
     ]
    },
    {
     "name": "stderr",
     "output_type": "stream",
     "text": [
      "100%|██████████| 1862/1862 [03:57<00:00,  7.85it/s]\n"
     ]
    },
    {
     "name": "stdout",
     "output_type": "stream",
     "text": [
      "Epoch 02, Training loss: 0.1903\n"
     ]
    },
    {
     "name": "stderr",
     "output_type": "stream",
     "text": [
      "100%|██████████| 195/195 [00:10<00:00, 17.92it/s]\n"
     ]
    },
    {
     "name": "stdout",
     "output_type": "stream",
     "text": [
      "Epoch 02, Validation loss: 0.1307\n",
      "Epoch 02, Average precision validation set: 0.38, ROC AUC validation set: 0.98\n"
     ]
    },
    {
     "name": "stderr",
     "output_type": "stream",
     "text": [
      "100%|██████████| 1862/1862 [03:53<00:00,  7.96it/s]\n"
     ]
    },
    {
     "name": "stdout",
     "output_type": "stream",
     "text": [
      "Epoch 03, Training loss: 0.1441\n"
     ]
    },
    {
     "name": "stderr",
     "output_type": "stream",
     "text": [
      "100%|██████████| 195/195 [00:10<00:00, 17.79it/s]\n"
     ]
    },
    {
     "name": "stdout",
     "output_type": "stream",
     "text": [
      "Epoch 03, Validation loss: 0.1042\n",
      "Epoch 03, Average precision validation set: 0.41, ROC AUC validation set: 0.98\n",
      "Model saved to C:/Users/ruben/OneDrive/Desktop/GNN/GAT_3_epochs.pth\n"
     ]
    }
   ],
   "source": [
    "init_params() # initialize parameters\n",
    "\n",
    "training_losses = []\n",
    "validation_losses = []\n",
    "\n",
    "consecutive_increases = 0\n",
    "max_consecutive_increases = 5\n",
    "\n",
    "for epoch in range(3):\n",
    "    loss = train()\n",
    "    print(f'Epoch {epoch+1:02d}, Training loss: {loss:.4f}')\n",
    "    training_losses.append(loss)\n",
    "\n",
    "    y_val, y_val_pred_proba, val_loss = test(val_loader)\n",
    "    print(f'Epoch {epoch+1:02d}, Validation loss: {val_loss:.4f}')\n",
    "    validation_losses.append(val_loss)\n",
    "\n",
    "    ap_val = average_precision_score(y_val, y_val_pred_proba)\n",
    "    roc_val = roc_auc_score(y_val, y_val_pred_proba)\n",
    "\n",
    "    print(f'Epoch {epoch+1:02d}, Average precision validation set: {ap_val:.2f}, ROC AUC validation set: {roc_val:.2f}')\n",
    "\n",
    "    # Check for early stopping\n",
    "    if epoch > 0 and val_loss > validation_losses[-2]:\n",
    "        consecutive_increases += 1\n",
    "        if consecutive_increases >= max_consecutive_increases:\n",
    "            print(f'Early stopping triggered at epoch {epoch+1}')\n",
    "            break\n",
    "    else:\n",
    "        consecutive_increases = 0\n",
    "\n",
    "torch.save(model.state_dict(), 'C:/Users/ruben/OneDrive/Desktop/GNN/GAT_3_epochs.pth')\n",
    "print('Model saved to C:/Users/ruben/OneDrive/Desktop/GNN/GAT_3_epochs.pth')"
   ]
  },
  {
   "cell_type": "code",
   "execution_count": 22,
   "metadata": {},
   "outputs": [
    {
     "name": "stdout",
     "output_type": "stream",
     "text": [
      "Model loaded from C:/Users/ruben/OneDrive/Desktop/GNN/GAT_3_epochs.pth\n"
     ]
    },
    {
     "name": "stderr",
     "output_type": "stream",
     "text": [
      "100%|██████████| 195/195 [00:10<00:00, 17.93it/s]\n"
     ]
    },
    {
     "name": "stdout",
     "output_type": "stream",
     "text": [
      "Average precision testing set: 0.4007, ROC AUC testing set: 0.9818\n"
     ]
    }
   ],
   "source": [
    "model.load_state_dict(torch.load('C:/Users/ruben/OneDrive/Desktop/GNN/GAT_3_epochs.pth'))\n",
    "print(f'Model loaded from C:/Users/ruben/OneDrive/Desktop/GNN/GAT_3_epochs.pth')\n",
    "\n",
    "y_test, y_test_pred_proba, test_loss = test(test_loader)\n",
    "ap_test = average_precision_score(y_test, y_test_pred_proba)\n",
    "roc_test = roc_auc_score(y_test, y_test_pred_proba)\n",
    "\n",
    "print(f'Average precision testing set: {ap_test:.4f}, ROC AUC testing set: {roc_test:.4f}')"
   ]
  }
 ],
 "metadata": {
  "kernelspec": {
   "display_name": "Python 3",
   "language": "python",
   "name": "python3"
  },
  "language_info": {
   "codemirror_mode": {
    "name": "ipython",
    "version": 3
   },
   "file_extension": ".py",
   "mimetype": "text/x-python",
   "name": "python",
   "nbconvert_exporter": "python",
   "pygments_lexer": "ipython3",
   "version": "3.12.2"
  }
 },
 "nbformat": 4,
 "nbformat_minor": 2
}
