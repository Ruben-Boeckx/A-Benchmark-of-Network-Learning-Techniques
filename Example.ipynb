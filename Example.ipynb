{
 "cells": [
  {
   "cell_type": "code",
   "execution_count": 1,
   "metadata": {},
   "outputs": [],
   "source": [
    "import sys\n",
    "sys.path.append(\"./Feature Engineering\")\n",
    "\n",
    "import pandas as pd\n",
    "from feature_engineering import FeatureEngineering"
   ]
  },
  {
   "cell_type": "code",
   "execution_count": 2,
   "metadata": {},
   "outputs": [
    {
     "name": "stdout",
     "output_type": "stream",
     "text": [
      "   index       cc_num                           merchant  category  gender  \\\n",
      "0   1017  60416207185  fraud_Jones, Sawayn and Romaguera     63287       0   \n",
      "1   2724  60416207185                    fraud_Berge LLC    131659       0   \n",
      "2   2726  60416207185                 fraud_Luettgen PLC    131659       0   \n",
      "3   2882  60416207185                fraud_Daugherty LLC    113035       0   \n",
      "4   2907  60416207185               fraud_Beier and Sons    123115       0   \n",
      "\n",
      "   city  state   job  is_fraud  cc_user  merchant_num  hour  day  month  \\\n",
      "0  3527  19322  2021         0      0.0         293.0    12    1      1   \n",
      "1  3527  19322  2021         0      0.0          43.0     8    2      1   \n",
      "2  3527  19322  2021         0      0.0         399.0     8    2      1   \n",
      "3  3527  19322  2021         0      0.0         126.0    12    2      1   \n",
      "4  3527  19322  2021         0      0.0          41.0    13    2      1   \n",
      "\n",
      "   weekday  age  distance_km  hours_diff_bet_trans   amt_log  \n",
      "0        1   33       127.61                     0  2.112635  \n",
      "1        2   33       110.31                    19  3.987872  \n",
      "2        2   33        21.79                     0  4.419804  \n",
      "3        2   33        87.20                     3  3.577669  \n",
      "4        2   33        74.21                     0  3.338613  \n"
     ]
    }
   ],
   "source": [
    "dataset = pd.read_csv('C:/Users/ruben/OneDrive/Desktop/Datasets/original_dataset.csv')\n",
    "fe = FeatureEngineering(dataset)\n",
    "processed_dataset = fe.execute()\n",
    "print(processed_dataset.head())"
   ]
  }
 ],
 "metadata": {
  "kernelspec": {
   "display_name": "Python 3",
   "language": "python",
   "name": "python3"
  },
  "language_info": {
   "codemirror_mode": {
    "name": "ipython",
    "version": 3
   },
   "file_extension": ".py",
   "mimetype": "text/x-python",
   "name": "python",
   "nbconvert_exporter": "python",
   "pygments_lexer": "ipython3",
   "version": "3.12.2"
  }
 },
 "nbformat": 4,
 "nbformat_minor": 2
}
